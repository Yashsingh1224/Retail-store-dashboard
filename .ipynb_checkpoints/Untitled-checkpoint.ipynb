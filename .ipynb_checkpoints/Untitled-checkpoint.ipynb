{
 "cells": [
  {
   "cell_type": "code",
   "execution_count": 1,
   "id": "5816b567-3d24-4166-b159-3158b90beed2",
   "metadata": {},
   "outputs": [
    {
     "ename": "ModuleNotFoundError",
     "evalue": "No module named 'streamlit'",
     "output_type": "error",
     "traceback": [
      "\u001b[1;31m---------------------------------------------------------------------------\u001b[0m",
      "\u001b[1;31mModuleNotFoundError\u001b[0m                       Traceback (most recent call last)",
      "Cell \u001b[1;32mIn[1], line 1\u001b[0m\n\u001b[1;32m----> 1\u001b[0m \u001b[38;5;28;01mimport\u001b[39;00m \u001b[38;5;21;01mstreamlit\u001b[39;00m \u001b[38;5;28;01mas\u001b[39;00m \u001b[38;5;21;01mst\u001b[39;00m\n\u001b[0;32m      2\u001b[0m \u001b[38;5;28;01mimport\u001b[39;00m \u001b[38;5;21;01mpandas\u001b[39;00m \u001b[38;5;28;01mas\u001b[39;00m \u001b[38;5;21;01mpd\u001b[39;00m\n\u001b[0;32m      3\u001b[0m \u001b[38;5;28;01mimport\u001b[39;00m \u001b[38;5;21;01mnumpy\u001b[39;00m \u001b[38;5;28;01mas\u001b[39;00m \u001b[38;5;21;01mnp\u001b[39;00m\n",
      "\u001b[1;31mModuleNotFoundError\u001b[0m: No module named 'streamlit'"
     ]
    }
   ],
   "source": [
    "import streamlit as st\n",
    "import pandas as pd\n",
    "import numpy as np\n",
    "from sklearn.preprocessing import StandardScaler\n",
    "from sklearn.cluster import KMeans\n",
    "from sklearn.decomposition import PCA\n",
    "from sklearn.manifold import TSNE\n",
    "import matplotlib.pyplot as plt\n",
    "import seaborn as sns"
   ]
  },
  {
   "cell_type": "code",
   "execution_count": null,
   "id": "b83ecb3f-55e4-422b-8520-b3bd5c4fba4b",
   "metadata": {},
   "outputs": [],
   "source": [
    "st.set_page_config(page_title=\"Online Retail Dashboard\", layout=\"wide\")\n",
    "st.title(\"🛍️ Online Retail Customer Segmentation Dashboard\")\n",
    "\n",
    "# Load data\n",
    "df = pd.read_excel(\"Online_retail.xlsx\")\n",
    "df.dropna(subset=['CustomerID'], inplace=True)\n",
    "df = df[(df['Quantity'] > 0) & (df['UnitPrice'] > 0)]\n",
    "df['TotalPrice'] = df['Quantity'] * df['UnitPrice']\n",
    "\n",
    "# RFM features\n",
    "snapshot_date = df['InvoiceDate'].max() + pd.Timedelta(days=1)\n",
    "rfm = df.groupby('CustomerID').agg({\n",
    "    'InvoiceDate': lambda x: (snapshot_date - x.max()).days,\n",
    "    'InvoiceNo': 'nunique',\n",
    "    'TotalPrice': 'sum'\n",
    "}).reset_index()\n",
    "rfm.columns = ['CustomerID', 'Recency', 'Frequency', 'Monetary']\n",
    "\n",
    "# Standardize\n",
    "scaler = StandardScaler()\n",
    "rfm_scaled = scaler.fit_transform(rfm[['Recency', 'Frequency', 'Monetary']])\n",
    "\n",
    "# Clustering\n",
    "kmeans = KMeans(n_clusters=4, random_state=42)\n",
    "rfm['Cluster'] = kmeans.fit_predict(rfm_scaled)\n",
    "\n",
    "# PCA\n",
    "pca = PCA(n_components=2)\n",
    "pca_components = pca.fit_transform(rfm_scaled)\n",
    "rfm['PCA1'] = pca_components[:, 0]\n",
    "rfm['PCA2'] = pca_components[:, 1]\n",
    "\n",
    "# Sidebar filters\n",
    "st.sidebar.header(\"Filters\")\n",
    "cluster_option = st.sidebar.selectbox(\"Select Cluster\", options=[\"All\"] + sorted(rfm['Cluster'].unique().tolist()))\n",
    "\n",
    "# KPI metrics\n",
    "col1, col2, col3 = st.columns(3)\n",
    "col1.metric(\"Total Customers\", len(rfm))\n",
    "col2.metric(\"Total Revenue\", f\"${df['TotalPrice'].sum():,.2f}\")\n",
    "col3.metric(\"Avg Order Size\", f\"${df.groupby('InvoiceNo')['TotalPrice'].sum().mean():.2f}\")\n",
    "\n",
    "# Cluster distribution\n",
    "st.subheader(\"📈 Cluster Distribution\")\n",
    "fig1, ax1 = plt.subplots()\n",
    "sns.countplot(data=rfm, x='Cluster', ax=ax1)\n",
    "st.pyplot(fig1)\n",
    "\n",
    "# PCA scatter plot\n",
    "st.subheader(\"🔍 Customer Segmentation (PCA View)\")\n",
    "fig2, ax2 = plt.subplots()\n",
    "plot_data = rfm if cluster_option == \"All\" else rfm[rfm['Cluster'] == cluster_option]\n",
    "sns.scatterplot(data=plot_data, x='PCA1', y='PCA2', hue='Cluster', palette='tab10', ax=ax2)\n",
    "st.pyplot(fig2)\n",
    "\n",
    "# Cluster summary table\n",
    "st.subheader(\"📋 Cluster Summary\")\n",
    "st.dataframe(rfm.groupby('Cluster').agg({\n",
    "    'Recency': 'mean',\n",
    "    'Frequency': 'mean',\n",
    "    'Monetary': ['mean', 'count']\n",
    "}).round(2))\n",
    "\n",
    "# Download segmented data\n",
    "st.subheader(\"📥 Download Segmented Customer Data\")\n",
    "st.download_button(\"Download CSV\", data=rfm.to_csv(index=False), file_name=\"segmented_customers.csv\", mime=\"text/csv\")"
   ]
  }
 ],
 "metadata": {
  "kernelspec": {
   "display_name": "Python 3 (ipykernel)",
   "language": "python",
   "name": "python3"
  },
  "language_info": {
   "codemirror_mode": {
    "name": "ipython",
    "version": 3
   },
   "file_extension": ".py",
   "mimetype": "text/x-python",
   "name": "python",
   "nbconvert_exporter": "python",
   "pygments_lexer": "ipython3",
   "version": "3.10.11"
  }
 },
 "nbformat": 4,
 "nbformat_minor": 5
}
